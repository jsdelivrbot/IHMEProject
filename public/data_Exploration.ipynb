{
 "cells": [
  {
   "cell_type": "code",
   "execution_count": 48,
   "metadata": {
    "collapsed": false
   },
   "outputs": [],
   "source": [
    "import pandas as pd\n",
    "codebookPath = \"IHME_GBD_2013_OBESITY_PREVALENCE_1990_2013_Y2014M10D08/IHME_GBD_2013_OBESITY_PREVALENCE_1990_2013_CB_Y2014M10D08.CSV\"\n",
    "filePath = \"IHME_GBD_2013_OBESITY_PREVALENCE_1990_2013_Y2014M10D08/IHME_GBD_2013_OBESITY_PREVALENCE_1990_2013_Y2014M10D08.CSV\"\n",
    "\n",
    "colName = ['location_id','location','location_name','year','age_group_id','age_group','age_start','age_end','sex_id','sex','unit','metric','measure','mean','lower','upper']\n",
    "fld=pd.read_csv(filePath,names = colName,header=None)\n",
    "codebook = pd.read_csv(codebookPath,header=None)"
   ]
  },
  {
   "cell_type": "code",
   "execution_count": 49,
   "metadata": {
    "collapsed": false
   },
   "outputs": [
    {
     "data": {
      "text/plain": [
       "9586960"
      ]
     },
     "execution_count": 49,
     "metadata": {},
     "output_type": "execute_result"
    }
   ],
   "source": [
    "fld.size"
   ]
  },
  {
   "cell_type": "code",
   "execution_count": 50,
   "metadata": {
    "collapsed": false
   },
   "outputs": [
    {
     "data": {
      "text/html": [
       "<div>\n",
       "<table border=\"1\" class=\"dataframe\">\n",
       "  <thead>\n",
       "    <tr style=\"text-align: right;\">\n",
       "      <th></th>\n",
       "      <th>location_id</th>\n",
       "      <th>location</th>\n",
       "      <th>location_name</th>\n",
       "      <th>year</th>\n",
       "      <th>age_group_id</th>\n",
       "      <th>age_group</th>\n",
       "      <th>age_start</th>\n",
       "      <th>age_end</th>\n",
       "      <th>sex_id</th>\n",
       "      <th>sex</th>\n",
       "      <th>unit</th>\n",
       "      <th>metric</th>\n",
       "      <th>measure</th>\n",
       "      <th>mean</th>\n",
       "      <th>lower</th>\n",
       "      <th>upper</th>\n",
       "    </tr>\n",
       "  </thead>\n",
       "  <tbody>\n",
       "    <tr>\n",
       "      <th>1</th>\n",
       "      <td>160</td>\n",
       "      <td>AFG</td>\n",
       "      <td>Afghanistan</td>\n",
       "      <td>1990</td>\n",
       "      <td>34</td>\n",
       "      <td>2 to 4 yrs</td>\n",
       "      <td>2</td>\n",
       "      <td>4</td>\n",
       "      <td>1</td>\n",
       "      <td>male</td>\n",
       "      <td>pct</td>\n",
       "      <td>obese</td>\n",
       "      <td>prevalence</td>\n",
       "      <td>0.068</td>\n",
       "      <td>0.044</td>\n",
       "      <td>0.107</td>\n",
       "    </tr>\n",
       "    <tr>\n",
       "      <th>2</th>\n",
       "      <td>160</td>\n",
       "      <td>AFG</td>\n",
       "      <td>Afghanistan</td>\n",
       "      <td>1990</td>\n",
       "      <td>34</td>\n",
       "      <td>2 to 4 yrs</td>\n",
       "      <td>2</td>\n",
       "      <td>4</td>\n",
       "      <td>1</td>\n",
       "      <td>male</td>\n",
       "      <td>pct</td>\n",
       "      <td>overweight</td>\n",
       "      <td>prevalence</td>\n",
       "      <td>0.192</td>\n",
       "      <td>0.136</td>\n",
       "      <td>0.265</td>\n",
       "    </tr>\n",
       "    <tr>\n",
       "      <th>3</th>\n",
       "      <td>160</td>\n",
       "      <td>AFG</td>\n",
       "      <td>Afghanistan</td>\n",
       "      <td>1990</td>\n",
       "      <td>36</td>\n",
       "      <td>2 to 19 yrs, age-standardized</td>\n",
       "      <td>2</td>\n",
       "      <td>19</td>\n",
       "      <td>1</td>\n",
       "      <td>male</td>\n",
       "      <td>pct</td>\n",
       "      <td>obese</td>\n",
       "      <td>prevalence</td>\n",
       "      <td>0.061</td>\n",
       "      <td>0.049</td>\n",
       "      <td>0.076</td>\n",
       "    </tr>\n",
       "    <tr>\n",
       "      <th>4</th>\n",
       "      <td>160</td>\n",
       "      <td>AFG</td>\n",
       "      <td>Afghanistan</td>\n",
       "      <td>1990</td>\n",
       "      <td>36</td>\n",
       "      <td>2 to 19 yrs, age-standardized</td>\n",
       "      <td>2</td>\n",
       "      <td>19</td>\n",
       "      <td>1</td>\n",
       "      <td>male</td>\n",
       "      <td>pct</td>\n",
       "      <td>overweight</td>\n",
       "      <td>prevalence</td>\n",
       "      <td>0.168</td>\n",
       "      <td>0.14</td>\n",
       "      <td>0.197</td>\n",
       "    </tr>\n",
       "    <tr>\n",
       "      <th>5</th>\n",
       "      <td>160</td>\n",
       "      <td>AFG</td>\n",
       "      <td>Afghanistan</td>\n",
       "      <td>1990</td>\n",
       "      <td>6</td>\n",
       "      <td>5 to 9 yrs</td>\n",
       "      <td>5</td>\n",
       "      <td>9</td>\n",
       "      <td>1</td>\n",
       "      <td>male</td>\n",
       "      <td>pct</td>\n",
       "      <td>overweight</td>\n",
       "      <td>prevalence</td>\n",
       "      <td>0.152</td>\n",
       "      <td>0.107</td>\n",
       "      <td>0.21</td>\n",
       "    </tr>\n",
       "  </tbody>\n",
       "</table>\n",
       "</div>"
      ],
      "text/plain": [
       "  location_id location location_name  year age_group_id  \\\n",
       "1         160      AFG   Afghanistan  1990           34   \n",
       "2         160      AFG   Afghanistan  1990           34   \n",
       "3         160      AFG   Afghanistan  1990           36   \n",
       "4         160      AFG   Afghanistan  1990           36   \n",
       "5         160      AFG   Afghanistan  1990            6   \n",
       "\n",
       "                       age_group age_start age_end sex_id   sex unit  \\\n",
       "1                     2 to 4 yrs         2       4      1  male  pct   \n",
       "2                     2 to 4 yrs         2       4      1  male  pct   \n",
       "3  2 to 19 yrs, age-standardized         2      19      1  male  pct   \n",
       "4  2 to 19 yrs, age-standardized         2      19      1  male  pct   \n",
       "5                     5 to 9 yrs         5       9      1  male  pct   \n",
       "\n",
       "       metric     measure   mean  lower  upper  \n",
       "1       obese  prevalence  0.068  0.044  0.107  \n",
       "2  overweight  prevalence  0.192  0.136  0.265  \n",
       "3       obese  prevalence  0.061  0.049  0.076  \n",
       "4  overweight  prevalence  0.168   0.14  0.197  \n",
       "5  overweight  prevalence  0.152  0.107   0.21  "
      ]
     },
     "execution_count": 50,
     "metadata": {},
     "output_type": "execute_result"
    }
   ],
   "source": [
    "fld=fld[1:]\n",
    "fld[:5]"
   ]
  },
  {
   "cell_type": "code",
   "execution_count": 4,
   "metadata": {
    "collapsed": false
   },
   "outputs": [
    {
     "data": {
      "text/plain": [
       "40"
      ]
     },
     "execution_count": 4,
     "metadata": {},
     "output_type": "execute_result"
    }
   ],
   "source": [
    "codebook.size"
   ]
  },
  {
   "cell_type": "code",
   "execution_count": 5,
   "metadata": {
    "collapsed": false
   },
   "outputs": [],
   "source": [
    "one = fld.loc[(fld['year'] == 2013) & (fld['age_group_id'] == 34) & (fld['sex_id'] == 1)]\n",
    "one = one[['year','location','age_group_id','sex_id','metric','mean','lower','upper']][:10]"
   ]
  },
  {
   "cell_type": "code",
   "execution_count": 6,
   "metadata": {
    "collapsed": false
   },
   "outputs": [
    {
     "data": {
      "text/plain": [
       "'[{\"year\":2013,\"location\":\"BEL\",\"age_group_id\":34,\"sex_id\":1,\"metric\":\"overweight\",\"mean\":0.235,\"lower\":0.165,\"upper\":0.311},{\"year\":2013,\"location\":\"BEL\",\"age_group_id\":34,\"sex_id\":1,\"metric\":\"obese\",\"mean\":0.047,\"lower\":0.03,\"upper\":0.07},{\"year\":2013,\"location\":\"BEN\",\"age_group_id\":34,\"sex_id\":1,\"metric\":\"obese\",\"mean\":0.057,\"lower\":0.037,\"upper\":0.083},{\"year\":2013,\"location\":\"BEN\",\"age_group_id\":34,\"sex_id\":1,\"metric\":\"overweight\",\"mean\":0.19,\"lower\":0.139,\"upper\":0.252},{\"year\":2013,\"location\":\"BFA\",\"age_group_id\":34,\"sex_id\":1,\"metric\":\"obese\",\"mean\":0.041,\"lower\":0.028,\"upper\":0.059},{\"year\":2013,\"location\":\"BFA\",\"age_group_id\":34,\"sex_id\":1,\"metric\":\"overweight\",\"mean\":0.099,\"lower\":0.076,\"upper\":0.129},{\"year\":2013,\"location\":\"BGD\",\"age_group_id\":34,\"sex_id\":1,\"metric\":\"overweight\",\"mean\":0.035,\"lower\":0.024,\"upper\":0.049},{\"year\":2013,\"location\":\"BGD\",\"age_group_id\":34,\"sex_id\":1,\"metric\":\"obese\",\"mean\":0.018,\"lower\":0.013,\"upper\":0.025},{\"year\":2013,\"location\":\"BGR\",\"age_group_id\":34,\"sex_id\":1,\"metric\":\"overweight\",\"mean\":0.326,\"lower\":0.242,\"upper\":0.424},{\"year\":2013,\"location\":\"BGR\",\"age_group_id\":34,\"sex_id\":1,\"metric\":\"obese\",\"mean\":0.084,\"lower\":0.054,\"upper\":0.122}]'"
      ]
     },
     "execution_count": 6,
     "metadata": {},
     "output_type": "execute_result"
    }
   ],
   "source": [
    "one.to_json(orient='records')"
   ]
  },
  {
   "cell_type": "code",
   "execution_count": 7,
   "metadata": {
    "collapsed": true
   },
   "outputs": [],
   "source": [
    "continents = ['R1','R10','R11','R12','R13','R14','R15','R16','R17','R18','R19','R2','R20','R21','R3','R4','R5','R6','R7','R8','R9','S1','S2','S3','S4','S5','S6','S7']"
   ]
  },
  {
   "cell_type": "code",
   "execution_count": 53,
   "metadata": {
    "collapsed": false
   },
   "outputs": [],
   "source": [
    "for year in range(1990,2014):\n",
    "    for ageGroup in [6,7,8,9,10,11,12,13,14,15,16,17,18,19,20,21,34,36,38]:\n",
    "        for sexGroup in [1,2,3]:\n",
    "            \n",
    "            year_ageGroupId_sexId_countries = fld.loc[(fld['year'] == year) & (fld['age_group_id'] == ageGroup) & (fld['sex_id'] == sexGroup) &\n",
    "                                               ~fld['location'].isin(continents)]\n",
    "            subset=year_ageGroupId_sexId_countries[['location','metric','mean','lower','upper']]\n",
    "            jsonOutput = subset.to_json(orient='records')\n",
    "            text_file = open(str(year) + '_' + str(ageGroup) + '_' + str(sexGroup) + '.txt', \"w\")\n",
    "            text_file.write(jsonOutput)\n",
    "            text_file.close()\n",
    "            \n",
    "            year_ageGroupId_sexId_continents = fld.loc[(fld['year'] == year) & (fld['age_group_id'] == ageGroup) & (fld['sex_id'] == sexGroup) &\n",
    "                                               fld['location'].isin(continents)]\n",
    "            subset2=year_ageGroupId_sexId_continents[['location','metric','mean','lower','upper']]\n",
    "            jsonOutput2 = subset2.to_json(orient='records')\n",
    "            text_file2 = open(str(year) + '_' + str(ageGroup) + '_' + str(sexGroup) + 'continents.txt', \"w\")\n",
    "            text_file2.write(jsonOutput2)\n",
    "            text_file2.close()\n",
    "            "
   ]
  },
  {
   "cell_type": "code",
   "execution_count": 42,
   "metadata": {
    "collapsed": true
   },
   "outputs": [],
   "source": [
    "countriesList = fld=pd.read_csv(\"countriesList.csv\",header=None)"
   ]
  },
  {
   "cell_type": "code",
   "execution_count": 43,
   "metadata": {
    "collapsed": false
   },
   "outputs": [
    {
     "data": {
      "text/plain": [
       "219"
      ]
     },
     "execution_count": 43,
     "metadata": {},
     "output_type": "execute_result"
    }
   ],
   "source": [
    "countriesList.size"
   ]
  },
  {
   "cell_type": "code",
   "execution_count": 44,
   "metadata": {
    "collapsed": false
   },
   "outputs": [
    {
     "data": {
      "text/html": [
       "<div>\n",
       "<table border=\"1\" class=\"dataframe\">\n",
       "  <thead>\n",
       "    <tr style=\"text-align: right;\">\n",
       "      <th></th>\n",
       "      <th>0</th>\n",
       "    </tr>\n",
       "  </thead>\n",
       "  <tbody>\n",
       "    <tr>\n",
       "      <th>0</th>\n",
       "      <td>AFG</td>\n",
       "    </tr>\n",
       "    <tr>\n",
       "      <th>1</th>\n",
       "      <td>AGO</td>\n",
       "    </tr>\n",
       "    <tr>\n",
       "      <th>2</th>\n",
       "      <td>ALB</td>\n",
       "    </tr>\n",
       "    <tr>\n",
       "      <th>3</th>\n",
       "      <td>AND</td>\n",
       "    </tr>\n",
       "    <tr>\n",
       "      <th>4</th>\n",
       "      <td>ARE</td>\n",
       "    </tr>\n",
       "  </tbody>\n",
       "</table>\n",
       "</div>"
      ],
      "text/plain": [
       "     0\n",
       "0  AFG\n",
       "1  AGO\n",
       "2  ALB\n",
       "3  AND\n",
       "4  ARE"
      ]
     },
     "execution_count": 44,
     "metadata": {},
     "output_type": "execute_result"
    }
   ],
   "source": [
    "countriesList[:5]"
   ]
  },
  {
   "cell_type": "code",
   "execution_count": 25,
   "metadata": {
    "collapsed": false
   },
   "outputs": [
    {
     "data": {
      "text/html": [
       "<div>\n",
       "<table border=\"1\" class=\"dataframe\">\n",
       "  <thead>\n",
       "    <tr style=\"text-align: right;\">\n",
       "      <th></th>\n",
       "      <th>location_id</th>\n",
       "      <th>location</th>\n",
       "      <th>location_name</th>\n",
       "      <th>year</th>\n",
       "      <th>age_group_id</th>\n",
       "      <th>age_group</th>\n",
       "      <th>age_start</th>\n",
       "      <th>age_end</th>\n",
       "      <th>sex_id</th>\n",
       "      <th>sex</th>\n",
       "      <th>unit</th>\n",
       "      <th>metric</th>\n",
       "      <th>measure</th>\n",
       "      <th>mean</th>\n",
       "      <th>lower</th>\n",
       "      <th>upper</th>\n",
       "    </tr>\n",
       "  </thead>\n",
       "  <tbody>\n",
       "    <tr>\n",
       "      <th>1</th>\n",
       "      <td>160</td>\n",
       "      <td>AFG</td>\n",
       "      <td>Afghanistan</td>\n",
       "      <td>1990</td>\n",
       "      <td>34</td>\n",
       "      <td>2 to 4 yrs</td>\n",
       "      <td>2</td>\n",
       "      <td>4</td>\n",
       "      <td>1</td>\n",
       "      <td>male</td>\n",
       "      <td>pct</td>\n",
       "      <td>obese</td>\n",
       "      <td>prevalence</td>\n",
       "      <td>0.068</td>\n",
       "      <td>0.044</td>\n",
       "      <td>0.107</td>\n",
       "    </tr>\n",
       "    <tr>\n",
       "      <th>2</th>\n",
       "      <td>160</td>\n",
       "      <td>AFG</td>\n",
       "      <td>Afghanistan</td>\n",
       "      <td>1990</td>\n",
       "      <td>34</td>\n",
       "      <td>2 to 4 yrs</td>\n",
       "      <td>2</td>\n",
       "      <td>4</td>\n",
       "      <td>1</td>\n",
       "      <td>male</td>\n",
       "      <td>pct</td>\n",
       "      <td>overweight</td>\n",
       "      <td>prevalence</td>\n",
       "      <td>0.192</td>\n",
       "      <td>0.136</td>\n",
       "      <td>0.265</td>\n",
       "    </tr>\n",
       "    <tr>\n",
       "      <th>3</th>\n",
       "      <td>160</td>\n",
       "      <td>AFG</td>\n",
       "      <td>Afghanistan</td>\n",
       "      <td>1990</td>\n",
       "      <td>36</td>\n",
       "      <td>2 to 19 yrs, age-standardized</td>\n",
       "      <td>2</td>\n",
       "      <td>19</td>\n",
       "      <td>1</td>\n",
       "      <td>male</td>\n",
       "      <td>pct</td>\n",
       "      <td>obese</td>\n",
       "      <td>prevalence</td>\n",
       "      <td>0.061</td>\n",
       "      <td>0.049</td>\n",
       "      <td>0.076</td>\n",
       "    </tr>\n",
       "    <tr>\n",
       "      <th>4</th>\n",
       "      <td>160</td>\n",
       "      <td>AFG</td>\n",
       "      <td>Afghanistan</td>\n",
       "      <td>1990</td>\n",
       "      <td>36</td>\n",
       "      <td>2 to 19 yrs, age-standardized</td>\n",
       "      <td>2</td>\n",
       "      <td>19</td>\n",
       "      <td>1</td>\n",
       "      <td>male</td>\n",
       "      <td>pct</td>\n",
       "      <td>overweight</td>\n",
       "      <td>prevalence</td>\n",
       "      <td>0.168</td>\n",
       "      <td>0.14</td>\n",
       "      <td>0.197</td>\n",
       "    </tr>\n",
       "    <tr>\n",
       "      <th>5</th>\n",
       "      <td>160</td>\n",
       "      <td>AFG</td>\n",
       "      <td>Afghanistan</td>\n",
       "      <td>1990</td>\n",
       "      <td>6</td>\n",
       "      <td>5 to 9 yrs</td>\n",
       "      <td>5</td>\n",
       "      <td>9</td>\n",
       "      <td>1</td>\n",
       "      <td>male</td>\n",
       "      <td>pct</td>\n",
       "      <td>overweight</td>\n",
       "      <td>prevalence</td>\n",
       "      <td>0.152</td>\n",
       "      <td>0.107</td>\n",
       "      <td>0.21</td>\n",
       "    </tr>\n",
       "  </tbody>\n",
       "</table>\n",
       "</div>"
      ],
      "text/plain": [
       "  location_id location location_name  year age_group_id  \\\n",
       "1         160      AFG   Afghanistan  1990           34   \n",
       "2         160      AFG   Afghanistan  1990           34   \n",
       "3         160      AFG   Afghanistan  1990           36   \n",
       "4         160      AFG   Afghanistan  1990           36   \n",
       "5         160      AFG   Afghanistan  1990            6   \n",
       "\n",
       "                       age_group age_start age_end sex_id   sex unit  \\\n",
       "1                     2 to 4 yrs         2       4      1  male  pct   \n",
       "2                     2 to 4 yrs         2       4      1  male  pct   \n",
       "3  2 to 19 yrs, age-standardized         2      19      1  male  pct   \n",
       "4  2 to 19 yrs, age-standardized         2      19      1  male  pct   \n",
       "5                     5 to 9 yrs         5       9      1  male  pct   \n",
       "\n",
       "       metric     measure   mean  lower  upper  \n",
       "1       obese  prevalence  0.068  0.044  0.107  \n",
       "2  overweight  prevalence  0.192  0.136  0.265  \n",
       "3       obese  prevalence  0.061  0.049  0.076  \n",
       "4  overweight  prevalence  0.168   0.14  0.197  \n",
       "5  overweight  prevalence  0.152  0.107   0.21  "
      ]
     },
     "execution_count": 25,
     "metadata": {},
     "output_type": "execute_result"
    }
   ],
   "source": [
    "fld.loc[fld['location'] == 'AFG'][:5]"
   ]
  },
  {
   "cell_type": "code",
   "execution_count": 56,
   "metadata": {
    "collapsed": false
   },
   "outputs": [],
   "source": [
    "for index, row in countriesList.iterrows():\n",
    "    countryList = fld.loc[fld['location'] == row[0]]\n",
    "    subset2=countryList[['year',\"age_group_id\",\"sex\",'metric','mean','lower','upper']]\n",
    "    jsonOutput2 = subset2.to_json(orient='records')\n",
    "    text_file2 = open(\"countries/\"+ row[0] + '.txt', \"w\")\n",
    "    text_file2.write(jsonOutput2)\n",
    "    text_file2.close()"
   ]
  },
  {
   "cell_type": "code",
   "execution_count": 32,
   "metadata": {
    "collapsed": false
   },
   "outputs": [
    {
     "data": {
      "text/plain": [
       "pandas.core.frame.DataFrame"
      ]
     },
     "execution_count": 32,
     "metadata": {},
     "output_type": "execute_result"
    }
   ],
   "source": [
    "type(countriesList)"
   ]
  },
  {
   "cell_type": "code",
   "execution_count": 62,
   "metadata": {
    "collapsed": false
   },
   "outputs": [
    {
     "data": {
      "text/html": [
       "<div>\n",
       "<table border=\"1\" class=\"dataframe\">\n",
       "  <thead>\n",
       "    <tr style=\"text-align: right;\">\n",
       "      <th></th>\n",
       "      <th>location_id</th>\n",
       "      <th>location</th>\n",
       "      <th>location_name</th>\n",
       "      <th>year</th>\n",
       "      <th>age_group_id</th>\n",
       "      <th>age_group</th>\n",
       "      <th>age_start</th>\n",
       "      <th>age_end</th>\n",
       "      <th>sex_id</th>\n",
       "      <th>sex</th>\n",
       "      <th>unit</th>\n",
       "      <th>metric</th>\n",
       "      <th>measure</th>\n",
       "      <th>mean</th>\n",
       "      <th>lower</th>\n",
       "      <th>upper</th>\n",
       "    </tr>\n",
       "  </thead>\n",
       "  <tbody>\n",
       "    <tr>\n",
       "      <th>273601</th>\n",
       "      <td>147</td>\n",
       "      <td>LBY</td>\n",
       "      <td>Libya</td>\n",
       "      <td>1990</td>\n",
       "      <td>34</td>\n",
       "      <td>2 to 4 yrs</td>\n",
       "      <td>2</td>\n",
       "      <td>4</td>\n",
       "      <td>1</td>\n",
       "      <td>male</td>\n",
       "      <td>pct</td>\n",
       "      <td>overweight</td>\n",
       "      <td>prevalence</td>\n",
       "      <td>0.339</td>\n",
       "      <td>0.253</td>\n",
       "      <td>0.431</td>\n",
       "    </tr>\n",
       "    <tr>\n",
       "      <th>273602</th>\n",
       "      <td>147</td>\n",
       "      <td>LBY</td>\n",
       "      <td>Libya</td>\n",
       "      <td>1990</td>\n",
       "      <td>34</td>\n",
       "      <td>2 to 4 yrs</td>\n",
       "      <td>2</td>\n",
       "      <td>4</td>\n",
       "      <td>1</td>\n",
       "      <td>male</td>\n",
       "      <td>pct</td>\n",
       "      <td>obese</td>\n",
       "      <td>prevalence</td>\n",
       "      <td>0.149</td>\n",
       "      <td>0.101</td>\n",
       "      <td>0.214</td>\n",
       "    </tr>\n",
       "    <tr>\n",
       "      <th>273603</th>\n",
       "      <td>147</td>\n",
       "      <td>LBY</td>\n",
       "      <td>Libya</td>\n",
       "      <td>1990</td>\n",
       "      <td>36</td>\n",
       "      <td>2 to 19 yrs, age-standardized</td>\n",
       "      <td>2</td>\n",
       "      <td>19</td>\n",
       "      <td>1</td>\n",
       "      <td>male</td>\n",
       "      <td>pct</td>\n",
       "      <td>overweight</td>\n",
       "      <td>prevalence</td>\n",
       "      <td>0.315</td>\n",
       "      <td>0.272</td>\n",
       "      <td>0.361</td>\n",
       "    </tr>\n",
       "    <tr>\n",
       "      <th>273604</th>\n",
       "      <td>147</td>\n",
       "      <td>LBY</td>\n",
       "      <td>Libya</td>\n",
       "      <td>1990</td>\n",
       "      <td>36</td>\n",
       "      <td>2 to 19 yrs, age-standardized</td>\n",
       "      <td>2</td>\n",
       "      <td>19</td>\n",
       "      <td>1</td>\n",
       "      <td>male</td>\n",
       "      <td>pct</td>\n",
       "      <td>obese</td>\n",
       "      <td>prevalence</td>\n",
       "      <td>0.139</td>\n",
       "      <td>0.114</td>\n",
       "      <td>0.167</td>\n",
       "    </tr>\n",
       "    <tr>\n",
       "      <th>273605</th>\n",
       "      <td>147</td>\n",
       "      <td>LBY</td>\n",
       "      <td>Libya</td>\n",
       "      <td>1990</td>\n",
       "      <td>6</td>\n",
       "      <td>5 to 9 yrs</td>\n",
       "      <td>5</td>\n",
       "      <td>9</td>\n",
       "      <td>1</td>\n",
       "      <td>male</td>\n",
       "      <td>pct</td>\n",
       "      <td>overweight</td>\n",
       "      <td>prevalence</td>\n",
       "      <td>0.279</td>\n",
       "      <td>0.206</td>\n",
       "      <td>0.371</td>\n",
       "    </tr>\n",
       "  </tbody>\n",
       "</table>\n",
       "</div>"
      ],
      "text/plain": [
       "       location_id location location_name  year age_group_id  \\\n",
       "273601         147      LBY         Libya  1990           34   \n",
       "273602         147      LBY         Libya  1990           34   \n",
       "273603         147      LBY         Libya  1990           36   \n",
       "273604         147      LBY         Libya  1990           36   \n",
       "273605         147      LBY         Libya  1990            6   \n",
       "\n",
       "                            age_group age_start age_end sex_id   sex unit  \\\n",
       "273601                     2 to 4 yrs         2       4      1  male  pct   \n",
       "273602                     2 to 4 yrs         2       4      1  male  pct   \n",
       "273603  2 to 19 yrs, age-standardized         2      19      1  male  pct   \n",
       "273604  2 to 19 yrs, age-standardized         2      19      1  male  pct   \n",
       "273605                     5 to 9 yrs         5       9      1  male  pct   \n",
       "\n",
       "            metric     measure   mean  lower  upper  \n",
       "273601  overweight  prevalence  0.339  0.253  0.431  \n",
       "273602       obese  prevalence  0.149  0.101  0.214  \n",
       "273603  overweight  prevalence  0.315  0.272  0.361  \n",
       "273604       obese  prevalence  0.139  0.114  0.167  \n",
       "273605  overweight  prevalence  0.279  0.206  0.371  "
      ]
     },
     "execution_count": 62,
     "metadata": {},
     "output_type": "execute_result"
    }
   ],
   "source": [
    "fld.loc[(fld['location_name'] == 'Libya')][:5]"
   ]
  },
  {
   "cell_type": "code",
   "execution_count": null,
   "metadata": {
    "collapsed": true
   },
   "outputs": [],
   "source": []
  }
 ],
 "metadata": {
  "anaconda-cloud": {},
  "kernelspec": {
   "display_name": "Python [conda env:py27]",
   "language": "python",
   "name": "conda-env-py27-py"
  },
  "language_info": {
   "codemirror_mode": {
    "name": "ipython",
    "version": 2
   },
   "file_extension": ".py",
   "mimetype": "text/x-python",
   "name": "python",
   "nbconvert_exporter": "python",
   "pygments_lexer": "ipython2",
   "version": "2.7.11"
  }
 },
 "nbformat": 4,
 "nbformat_minor": 1
}
